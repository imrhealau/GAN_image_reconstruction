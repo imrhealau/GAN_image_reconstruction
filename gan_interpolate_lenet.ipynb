{
  "cells": [
    {
      "cell_type": "code",
      "execution_count": 20,
      "metadata": {
        "colab": {
          "base_uri": "https://localhost:8080/"
        },
        "id": "P6qRWQJzj9TA",
        "outputId": "2f1a7726-6830-46bb-e3b5-3246af8e6093"
      },
      "outputs": [
        {
          "name": "stdout",
          "output_type": "stream",
          "text": [
            "cpu\n"
          ]
        }
      ],
      "source": [
        "# prerequisites\n",
        "import torch\n",
        "import torch.nn as nn\n",
        "import torch.nn.functional as F\n",
        "import torch.optim as optim\n",
        "from torchvision import datasets, transforms\n",
        "from torch.autograd import Variable\n",
        "from torchvision.utils import save_image\n",
        "import numpy as np\n",
        "import matplotlib.pyplot as plt\n",
        "from tqdm import tqdm\n",
        "# !pip install torchinfo\n",
        "import torchinfo\n",
        "\n",
        "# Device configuration\n",
        "device = torch.device('cuda' if torch.cuda.is_available() else 'cpu')\n",
        "print(device)"
      ]
    },
    {
      "cell_type": "code",
      "execution_count": 21,
      "metadata": {
        "id": "ShdKBIMbj9TB"
      },
      "outputs": [],
      "source": [
        "#=======================Define masking function=======================#\n",
        "class Mask(object):\n",
        "    def __init__(self, masking_rate):\n",
        "        self.masking_rate = masking_rate\n",
        "\n",
        "    def __call__(self, matrix_3d):\n",
        "        num_columns_to_mask = int(self.masking_rate * matrix_3d.shape[2])\n",
        "        columns_to_mask = np.random.choice(matrix_3d.shape[2], num_columns_to_mask, replace=False)\n",
        "        matrix_3d_mask = matrix_3d.clone()\n",
        "        matrix_3d_mask[:,:, columns_to_mask] = 0\n",
        "        return matrix_3d, matrix_3d_mask\n",
        "\n"
      ]
    },
    {
      "cell_type": "code",
      "execution_count": 22,
      "metadata": {
        "id": "S43-IAuVj9TB"
      },
      "outputs": [],
      "source": [
        "#=======================Training parameters=======================#\n",
        "masking_rate = 0.5   # masking rate\n",
        "bs = 64              # batch size (og:64)\n",
        "lr = 0.0002          # learning rate (og:0.0002)\n",
        "n_epoch = 10         # number of epoch"
      ]
    },
    {
      "cell_type": "code",
      "execution_count": 23,
      "metadata": {
        "id": "iEYkC-_lj9TB"
      },
      "outputs": [],
      "source": [
        "# #=======================Create F-MNIST datasets=======================#\n",
        "# ## create two transform (G has masked data and D has original data)\n",
        "# mask = Mask(masking_rate)\n",
        "# transform_d_g = transforms.Compose([transforms.ToTensor(),mask])\n",
        "\n",
        "# train_dataset_d_g = datasets.FashionMNIST(root='./F_mnist_data/', train=True, transform=transform_d_g, download=True)\n",
        "# train_loader_d_g = torch.utils.data.DataLoader(dataset=train_dataset_d_g, batch_size=bs, shuffle=True)\n",
        "\n",
        "# validation_dataset_d_g = datasets.FashionMNIST(root='./F_mnist_data/', train=False, transform=transform_d_g, download=False)\n",
        "# validation_loader_d_g = torch.utils.data.DataLoader(dataset=train_dataset_d_g, batch_size=bs, shuffle=False)\n",
        "\n",
        "# test_dataset_d_g = datasets.FashionMNIST(root='./F_mnist_data/', train=False, transform=transform_d_g, download=False)\n",
        "# test_loader_d_g = torch.utils.data.DataLoader(dataset=train_dataset_d_g, batch_size=bs, shuffle=False)\n"
      ]
    },
    {
      "cell_type": "code",
      "execution_count": 24,
      "metadata": {
        "id": "WOofTEX54aUW"
      },
      "outputs": [],
      "source": [
        "#=======================Create MNIST datasets=======================#\n",
        "## create two transform (G has masked data and D has original data)\n",
        "mask = Mask(masking_rate)\n",
        "transform_d_g = transforms.Compose([transforms.ToTensor(),mask])\n",
        "\n",
        "train_dataset_d_g = datasets.MNIST(root='./mnist_data/', train=True, transform=transform_d_g, download=True)\n",
        "train_loader_d_g = torch.utils.data.DataLoader(dataset=train_dataset_d_g, batch_size=bs, shuffle=True)\n",
        "\n",
        "validation_dataset_d_g = datasets.MNIST(root='./mnist_data/', train=False, transform=transform_d_g, download=False)\n",
        "validation_loader_d_g = torch.utils.data.DataLoader(dataset=train_dataset_d_g, batch_size=bs, shuffle=False)\n",
        "\n",
        "test_dataset_d_g = datasets.MNIST(root='./mnist_data/', train=False, transform=transform_d_g, download=False)\n",
        "test_loader_d_g = torch.utils.data.DataLoader(dataset=train_dataset_d_g, batch_size=bs, shuffle=False)\n"
      ]
    },
    {
      "cell_type": "code",
      "execution_count": 25,
      "metadata": {
        "id": "7XwA6ey1j9TC"
      },
      "outputs": [],
      "source": [
        "#=======================Build GAN=======================#\n",
        "class Generator(nn.Module):\n",
        "    def __init__(self, g_input_dim, g_output_dim):\n",
        "        super(Generator, self).__init__()\n",
        "        self.fc1 = nn.Linear(g_input_dim, 512) # orginal 256\n",
        "        self.fc2 = nn.Linear(self.fc1.out_features, self.fc1.out_features*2)\n",
        "        self.fc3 = nn.Linear(self.fc2.out_features, self.fc2.out_features*2)\n",
        "        self.fc4 = nn.Linear(self.fc3.out_features, self.fc3.out_features*2)\n",
        "        self.fc5 = nn.Linear(self.fc4.out_features, g_output_dim)\n",
        "\n",
        "    # forward method\n",
        "    def forward(self, x):\n",
        "        x = F.relu(self.fc1(x))\n",
        "        x = F.dropout(x, 0.3)\n",
        "        x = F.relu(self.fc2(x))\n",
        "        x = F.dropout(x, 0.3)\n",
        "        x = F.relu(self.fc3(x))\n",
        "        x = F.dropout(x, 0.3)\n",
        "        x = F.relu(self.fc4(x))\n",
        "        return torch.tanh(self.fc5(x))\n",
        "\n",
        "class Discriminator(nn.Module):\n",
        "    def __init__(self, d_input_dim):\n",
        "        super(Discriminator, self).__init__()\n",
        "        self.fc1 = nn.Linear(d_input_dim, 1024)\n",
        "        self.fc2 = nn.Linear(self.fc1.out_features, self.fc1.out_features//2)\n",
        "        self.fc3 = nn.Linear(self.fc2.out_features, self.fc2.out_features//2)\n",
        "        self.fc4 = nn.Linear(self.fc3.out_features, 1)\n",
        "\n",
        "    # forward method\n",
        "    def forward(self, x):\n",
        "\n",
        "        x = F.relu(self.fc1(x))\n",
        "        x = F.dropout(x, 0.3)\n",
        "        x = F.relu(self.fc2(x))\n",
        "        x = F.dropout(x, 0.3)\n",
        "        x = F.relu(self.fc3(x))\n",
        "        x = F.dropout(x, 0.3) # force the network use different neurons\n",
        "        x = torch.sigmoid(self.fc4(x))\n",
        "\n",
        "        return x  #-1<x<1\n",
        "\n",
        "class LENET_Discriminator(nn.Module):\n",
        "    def __init__(self, d_input_dim):\n",
        "        super(LENET_Discriminator, self).__init__()\n",
        "        self.conv1 = nn.Conv2d(1, 32, kernel_size=3, stride=1, padding=1)\n",
        "        self.conv2 = nn.Conv2d(32, 64, kernel_size=3, stride=1, padding=1)\n",
        "        self.pool = nn.MaxPool2d(kernel_size=2, stride=2, padding=0) #AutoML\n",
        "        self.flatten = nn.Flatten()\n",
        "        self.fc1 = nn.Linear(64*7*7,1024)  # Adjust the input size based on your input dimensions\n",
        "        self.fc2 = nn.Linear(self.fc1.out_features, self.fc1.out_features//2)\n",
        "        self.fc3 = nn.Linear(self.fc2.out_features, self.fc2.out_features//2)\n",
        "        self.fc4 = nn.Linear(self.fc3.out_features, 1)\n",
        "        self.dropout = nn.Dropout(0.3)  # Adjust the dropout rate as needed\n",
        "\n",
        "    def forward(self, x):\n",
        "        x = self.conv1(x)\n",
        "        x = F.relu(x)\n",
        "        x = self.pool(x)\n",
        "\n",
        "        x = self.conv2(x)\n",
        "        x = F.relu(x)\n",
        "        x = self.pool(x)\n",
        "\n",
        "        x = self.flatten(x)\n",
        "\n",
        "        x = self.fc1(x)\n",
        "        x = F.relu(x)\n",
        "        x = self.dropout(x)\n",
        "\n",
        "        x = self.fc2(x)\n",
        "        x = F.relu(x)\n",
        "        x = self.dropout(x)\n",
        "\n",
        "        x = self.fc3(x)\n",
        "        x = F.relu(x)\n",
        "        x = self.dropout(x)\n",
        "        x = torch.sigmoid(self.fc4(x))\n",
        "        return x\n"
      ]
    },
    {
      "cell_type": "code",
      "execution_count": 26,
      "metadata": {
        "id": "DhjnEUO0j9TC"
      },
      "outputs": [],
      "source": [
        "#=======================Build the network=======================#\n",
        "z_dim = 28*28\n",
        "mnist_dim = train_dataset_d_g.data.size(1) * train_dataset_d_g.data.size(2)\n",
        "\n",
        "G = Generator(g_input_dim = mnist_dim, g_output_dim = mnist_dim).to(device)\n",
        "D = LENET_Discriminator(mnist_dim).to(device)"
      ]
    },
    {
      "cell_type": "code",
      "execution_count": 28,
      "metadata": {
        "colab": {
          "base_uri": "https://localhost:8080/"
        },
        "id": "UrwfjDSdxvsA",
        "outputId": "ed1318e9-c888-4ea2-b79f-59cbf1eb6519"
      },
      "outputs": [
        {
          "data": {
            "text/plain": [
              "=================================================================\n",
              "Layer (type:depth-idx)                   Param #\n",
              "=================================================================\n",
              "Generator                                --\n",
              "├─Linear: 1-1                            401,920\n",
              "├─Linear: 1-2                            525,312\n",
              "├─Linear: 1-3                            2,099,200\n",
              "├─Linear: 1-4                            8,392,704\n",
              "├─Linear: 1-5                            3,212,048\n",
              "=================================================================\n",
              "Total params: 14,631,184\n",
              "Trainable params: 14,631,184\n",
              "Non-trainable params: 0\n",
              "================================================================="
            ]
          },
          "execution_count": 28,
          "metadata": {},
          "output_type": "execute_result"
        }
      ],
      "source": [
        "torchinfo.summary(G)"
      ]
    },
    {
      "cell_type": "code",
      "execution_count": 9,
      "metadata": {
        "id": "_sQuX-DSj9TC"
      },
      "outputs": [
        {
          "name": "stderr",
          "output_type": "stream",
          "text": [
            "/Users/woodstock/Library/Python/3.9/lib/python/site-packages/torch/nn/_reduction.py:42: UserWarning: size_average and reduce args will be deprecated, please use reduction='mean' instead.\n",
            "  warnings.warn(warning.format(ret))\n"
          ]
        }
      ],
      "source": [
        "#=======================Choose loss and optimizer=======================#\n",
        "# loss\n",
        "criterion = nn.BCELoss() # binary crossentropy loss, normalised ./. two classes\n",
        "mse_loss = nn.MSELoss(reduce=True,reduction='sum')\n",
        "\n",
        "# optimizer\n",
        "G_optimizer = optim.Adam(G.parameters(), lr = lr)\n",
        "D_optimizer = optim.Adam(D.parameters(), lr = lr)"
      ]
    },
    {
      "cell_type": "code",
      "execution_count": 10,
      "metadata": {
        "id": "_lNQ7GIFj9TC"
      },
      "outputs": [],
      "source": [
        "def D_train(x_d,x_g):\n",
        "    #=======================Train the discriminator=======================#\n",
        "    D.zero_grad()\n",
        "\n",
        "    # train discriminator on real\n",
        "    bs = x_d.shape[0]\n",
        "    x_real, y_real = x_d.view(-1, mnist_dim), torch.ones(bs, 1)  # assigning the input image with 1 (real)\n",
        "    x_real, y_real = Variable(x_real.to(device)), Variable(y_real.to(device))\n",
        "\n",
        "    D_output = D(x_d)\n",
        "    D_real_loss = criterion(D_output, y_real)\n",
        "\n",
        "    # train discriminator on fake\n",
        "    z = x_g.view(-1, mnist_dim) ##!!\n",
        "    x_fake, y_fake = G(z), Variable(torch.zeros(bs, 1).to(device)) # assigning the input image with 0 (fake)\n",
        "\n",
        "    x_fake = x_fake.view(x_fake.size(0), 1, 28, 28)\n",
        "    # D_output = D(x_fake)\n",
        "    D_fake_loss = criterion(D_output, y_fake)  # probability compare with 0\n",
        "\n",
        "    # gradient backprop & optimize ONLY D's parameters\n",
        "    D_loss = (D_real_loss + D_fake_loss)/2\n",
        "    D_loss.backward()\n",
        "    D_optimizer.step()\n",
        "\n",
        "    return  D_loss.data.item()"
      ]
    },
    {
      "cell_type": "code",
      "execution_count": 11,
      "metadata": {},
      "outputs": [],
      "source": [
        "def D_val(x_d,x_g):\n",
        "    #=======================Train the discriminator=======================#\n",
        "    D.zero_grad()\n",
        "\n",
        "    # train discriminator on real\n",
        "    bs = x_d.shape[0]\n",
        "    x_real, y_real = x_d.view(-1, mnist_dim), torch.ones(bs, 1)  # assigning the input image with 1 (real)\n",
        "    x_real, y_real = Variable(x_real.to(device)), Variable(y_real.to(device))\n",
        "\n",
        "    D_output = D(x_d)\n",
        "    D_real_loss = criterion(D_output, y_real)\n",
        "\n",
        "    # train discriminator on fake\n",
        "    z = x_g.view(-1, mnist_dim) ##!!\n",
        "    x_fake, y_fake = G(z), Variable(torch.zeros(bs, 1).to(device)) # assigning the input image with 0 (fake)\n",
        "\n",
        "    x_fake = x_fake.view(x_fake.size(0), 1, 28, 28)\n",
        "    # D_output = D(x_fake)\n",
        "    D_fake_loss = criterion(D_output, y_fake)  # probability compare with 0\n",
        "\n",
        "    # gradient backprop & optimize ONLY D's parameters\n",
        "    D_loss = (D_real_loss + D_fake_loss)/2\n",
        "\n",
        "    return  D_loss.data.item()"
      ]
    },
    {
      "cell_type": "code",
      "execution_count": 12,
      "metadata": {
        "id": "a8_B1AKQj9TD"
      },
      "outputs": [],
      "source": [
        "def G_train(x_d, x_g):\n",
        "    #=======================Train the generator=======================#\n",
        "    # print(x_g.shape)\n",
        "    bs = x_g.shape[0]\n",
        "    G.zero_grad()\n",
        "\n",
        "    z = x_g.view(-1, mnist_dim)\n",
        "    y = Variable(torch.ones(bs, 1).to(device))\n",
        "\n",
        "    G_output = G(z)\n",
        "    ##\n",
        "    G_output2 = G_output.view(G_output.size(0), 1, 28, 28)\n",
        "    D_output = D(G_output2)\n",
        "\n",
        "    # Reshape the tensor\n",
        "    x_d = x_d.view((x_d.size(0), -1))  # Keep the first dimension (batch size), flatten the rest\n",
        "    G_loss = criterion(D_output, y) + mse_loss(G_output, x_d)\n",
        "    m_loss = mse_loss(G_output, x_d)\n",
        "\n",
        "    # gradient backprop & optimize ONLY G's parameters\n",
        "    G_loss.backward()\n",
        "    G_optimizer.step()\n",
        "\n",
        "    return G_loss.data.item(), m_loss.data.item()"
      ]
    },
    {
      "cell_type": "code",
      "execution_count": 13,
      "metadata": {},
      "outputs": [],
      "source": [
        "def G_val(x_d, x_g):\n",
        "    #=======================Train the generator=======================#\n",
        "    # print(x_g.shape)\n",
        "    bs = x_g.shape[0]\n",
        "    G.zero_grad()\n",
        "\n",
        "    z = x_g.view(-1, mnist_dim)\n",
        "    y = Variable(torch.ones(bs, 1).to(device))\n",
        "\n",
        "    G_output = G(z)\n",
        "    ##\n",
        "    G_output2 = G_output.view(G_output.size(0), 1, 28, 28)\n",
        "    D_output = D(G_output2)\n",
        "\n",
        "    # Reshape the tensor\n",
        "    x_d = x_d.view((x_d.size(0), -1))  # Keep the first dimension (batch size), flatten the rest\n",
        "    G_loss = criterion(D_output, y) + mse_loss(G_output, x_d)\n",
        "    m_loss = mse_loss(G_output, x_d)\n",
        "\n",
        "    return G_loss.data.item(), m_loss.data.item()"
      ]
    },
    {
      "cell_type": "code",
      "execution_count": 14,
      "metadata": {
        "colab": {
          "base_uri": "https://localhost:8080/"
        },
        "id": "Mk14QR-gj9TD",
        "outputId": "7caae4b7-5902-4137-e8b4-6e47e5d690c3"
      },
      "outputs": [],
      "source": [
        "# #===================Train the model===================#\n",
        "# for epoch in range(1, n_epoch+1):\n",
        "#     # print(next(iter(train_loader)))\n",
        "#     D_losses,G_losses, mse_losses = [],[],[]\n",
        "\n",
        "#     for batch_idx,(((x_d, x_g), _)) in enumerate(tqdm(train_loader_d_g)):\n",
        "#         x_d=x_d.to(device)\n",
        "#         x_g=x_g.to(device)\n",
        "#         G_losses.append(G_train(x_d, x_g)[0])\n",
        "#         D_losses.append(D_train(x_d, x_g))\n",
        "#         mse_losses.append(G_train(x_d, x_g)[1])\n",
        "\n",
        "#         # plot data\n",
        "#         if batch_idx == len(train_loader_d_g)-1:\n",
        "#             data = x_g[0][0]\n",
        "#             original = x_d[0][0]\n",
        "#             z = data.view(-1, mnist_dim)\n",
        "#             fig, ax = plt.subplots(1,3)\n",
        "#             ax[0].imshow(transforms.ToPILImage()(data), cmap='Greys')\n",
        "#             ax[1].imshow(G(z).cpu().detach().numpy().reshape(28,28), cmap='Greys')\n",
        "#             ax[2].imshow(transforms.ToPILImage()(original), cmap='Greys')\n",
        "#             plt.show()\n",
        "#         # break\n",
        "\n",
        "\n",
        "\n",
        "#     print('[%d/%d]: loss_d: %.5f, loss_g: %.5f, loss_mse: %.5f' % (\n",
        "#             (epoch), n_epoch, torch.mean(torch.FloatTensor(D_losses)), torch.mean(torch.FloatTensor(G_losses)), torch.mean(torch.FloatTensor(mse_losses))))\n",
        "\n"
      ]
    },
    {
      "cell_type": "code",
      "execution_count": 15,
      "metadata": {},
      "outputs": [
        {
          "name": "stdout",
          "output_type": "stream",
          "text": [
            "Training [1/10]: loss_d: 0.69315, loss_g: 0.72573, loss_mse: 0.03215\n",
            "Validation [1/10]: loss_d: 0.69315, loss_g: 0.71732, loss_mse: 0.02404\n",
            "Training [2/10]: loss_d: 0.69315, loss_g: 0.71520, loss_mse: 0.02203\n",
            "Validation [2/10]: loss_d: 0.69315, loss_g: 0.71373, loss_mse: 0.02059\n",
            "Training [3/10]: loss_d: 0.69315, loss_g: 0.71276, loss_mse: 0.01957\n",
            "Validation [3/10]: loss_d: 0.69315, loss_g: 0.71198, loss_mse: 0.01880\n",
            "Training [4/10]: loss_d: 0.69315, loss_g: 0.71144, loss_mse: 0.01826\n",
            "Validation [4/10]: loss_d: 0.69315, loss_g: 0.71085, loss_mse: 0.01770\n",
            "Training [5/10]: loss_d: 0.69315, loss_g: 0.71051, loss_mse: 0.01735\n",
            "Validation [5/10]: loss_d: 0.69315, loss_g: 0.71010, loss_mse: 0.01695\n",
            "Training [6/10]: loss_d: 0.69315, loss_g: 0.70987, loss_mse: 0.01673\n",
            "Validation [6/10]: loss_d: 0.69315, loss_g: 0.70958, loss_mse: 0.01646\n",
            "Training [7/10]: loss_d: 0.69315, loss_g: 0.70935, loss_mse: 0.01620\n",
            "Validation [7/10]: loss_d: 0.69315, loss_g: 0.70913, loss_mse: 0.01599\n",
            "Training [8/10]: loss_d: 0.69315, loss_g: 0.70898, loss_mse: 0.01583\n",
            "Validation [8/10]: loss_d: 0.69315, loss_g: 0.70869, loss_mse: 0.01556\n",
            "Training [9/10]: loss_d: 0.69315, loss_g: 0.70865, loss_mse: 0.01550\n",
            "Validation [9/10]: loss_d: 0.69315, loss_g: 0.70843, loss_mse: 0.01526\n",
            "Training [10/10]: loss_d: 0.69315, loss_g: 0.70837, loss_mse: 0.01523\n",
            "Validation [10/10]: loss_d: 0.69315, loss_g: 0.70816, loss_mse: 0.01503\n"
          ]
        }
      ],
      "source": [
        "#===================Train the model===================#\n",
        "D_loss_train = []\n",
        "D_loss_val = []\n",
        "G_loss_train = []\n",
        "G_loss_val = []\n",
        "m_loss_train = []\n",
        "m_loss_val = []\n",
        "\n",
        "for epoch in range(1, n_epoch+1):     \n",
        "    # print(next(iter(train_loader)))   \n",
        "    D_losses,G_losses, mse_losses = [],[],[]\n",
        "\n",
        "    for batch_idx,(((x_d, x_g), _)) in enumerate(train_loader_d_g):\n",
        "        x_d=x_d.to(device)\n",
        "        x_g=x_g.to(device)  \n",
        "        gen_loss_first, mse_loss_first = G_train(x_d, x_g)\n",
        "        D_losses.append(D_train(x_d, x_g))\n",
        "        gen_loss_second, mse_loss_second = G_train(x_d, x_g)\n",
        "        G_losses.append((gen_loss_second + gen_loss_first)/2)\n",
        "        mse_losses.append((mse_loss_second + mse_loss_first)/2)\n",
        "        \n",
        "        # plot data\n",
        "        # if batch_idx == len(train_loader_d_g)-1:\n",
        "        #     data = x_g[0][0]\n",
        "        #     original = x_d[0][0]\n",
        "        #     z = data.view(-1, mnist_dim)\n",
        "        #     fig, ax = plt.subplots(1,3)\n",
        "        #     ax[0].imshow(transforms.ToPILImage()(data), cmap='Greys')\n",
        "        #     ax[1].imshow(G(z).cpu().detach().numpy().reshape(28,28), cmap='Greys')\n",
        "        #     ax[2].imshow(transforms.ToPILImage()(original), cmap='Greys')\n",
        "        #     plt.show()\n",
        "        # break\n",
        "\n",
        "    D_loss_train.append(torch.mean(torch.FloatTensor(D_losses)).item())\n",
        "    G_loss_train.append(torch.mean(torch.FloatTensor(G_losses)).item())\n",
        "    m_loss_train.append(torch.mean(torch.FloatTensor(mse_losses)).item())\n",
        "\n",
        "    print('Training [%d/%d]: loss_d: %.5f, loss_g: %.5f, loss_mse: %.5f' % (\n",
        "            (epoch), n_epoch, torch.mean(torch.FloatTensor(D_losses)), torch.mean(torch.FloatTensor(G_losses)), torch.mean(torch.FloatTensor(mse_losses))))\n",
        "    \n",
        "    # validation\n",
        "    D_losses,G_losses, mse_losses = [],[],[]\n",
        "    for batch_idx,(((x_d, x_g), _)) in enumerate(test_loader_d_g):\n",
        "        x_d=x_d.to(device)\n",
        "        x_g=x_g.to(device)\n",
        "        G_losses.append(G_val(x_d, x_g)[0])\n",
        "        D_losses.append(D_val(x_d, x_g))\n",
        "        mse_losses.append(G_val(x_d, x_g)[1])\n",
        "    \n",
        "    D_loss_val.append(torch.mean(torch.FloatTensor(D_losses)).item())\n",
        "    G_loss_val.append(torch.mean(torch.FloatTensor(G_losses)).item())\n",
        "    m_loss_val.append(torch.mean(torch.FloatTensor(mse_losses)).item())\n",
        "        \n",
        "    print('Validation [%d/%d]: loss_d: %.5f, loss_g: %.5f, loss_mse: %.5f' % (\n",
        "            (epoch), n_epoch, torch.mean(torch.FloatTensor(D_losses)), torch.mean(torch.FloatTensor(G_losses)), torch.mean(torch.FloatTensor(mse_losses))))\n"
      ]
    },
    {
      "cell_type": "code",
      "execution_count": 16,
      "metadata": {},
      "outputs": [
        {
          "name": "stdout",
          "output_type": "stream",
          "text": [
            "{'D_loss_train': [0.6931501626968384, 0.6931477785110474, 0.6931473612785339, 0.6931473612785339, 0.6931473612785339, 0.6931473612785339, 0.6931473612785339, 0.6931473612785339, 0.6931473612785339, 0.6931473612785339], 'D_loss_val': [0.6931480765342712, 0.693147599697113, 0.6931473612785339, 0.6931473612785339, 0.6931473612785339, 0.6931473612785339, 0.6931473612785339, 0.6931473612785339, 0.6931473612785339, 0.6931473612785339], 'G_loss_train': [0.7257280349731445, 0.7152027487754822, 0.712761640548706, 0.7114360332489014, 0.7105093598365784, 0.7098749876022339, 0.7093514204025269, 0.7089822292327881, 0.708646833896637, 0.7083731293678284], 'G_loss_val': [0.7173208594322205, 0.7137323617935181, 0.7119789123535156, 0.7108508944511414, 0.7101026177406311, 0.7095806002616882, 0.709132194519043, 0.7086949348449707, 0.7084313035011292, 0.7081576585769653], 'm_loss_train': [0.03214597702026367, 0.022028082981705666, 0.019572608172893524, 0.01826498843729496, 0.017354104667901993, 0.016725346446037292, 0.016203144565224648, 0.015834566205739975, 0.015499448403716087, 0.015225694514811039], 'm_loss_val': [0.02404477819800377, 0.02058941125869751, 0.01879982464015484, 0.017695600166916847, 0.016945790499448776, 0.016456937417387962, 0.015989718958735466, 0.015562055632472038, 0.015261775813996792, 0.015028676018118858]}\n"
          ]
        }
      ],
      "source": [
        "loss_dict = {'D_loss_train': D_loss_train,\n",
        "'D_loss_val': D_loss_val,\n",
        "'G_loss_train': G_loss_train,\n",
        "'G_loss_val': G_loss_val,\n",
        "'m_loss_train': m_loss_train,\n",
        "'m_loss_val': m_loss_val}\n",
        "\n",
        "print(loss_dict)"
      ]
    },
    {
      "cell_type": "code",
      "execution_count": 17,
      "metadata": {
        "id": "p41Pd_rEj9TD"
      },
      "outputs": [],
      "source": [
        "# #===================Test the model===================#\n",
        "# index = 6\n",
        "\n",
        "# for batch_idx,(((x_d, x_g), _)) in enumerate(test_loader_d_g):\n",
        "#     x_d=x_d.to(device)\n",
        "#     x_g=x_g.to(device)\n",
        "#     if batch_idx == index:\n",
        "#         data = x_g[0][0]\n",
        "#         original = x_d[0][0]\n",
        "#         z = data.view(-1, mnist_dim)\n",
        "\n",
        "#         fig, ax = plt.subplots(1,3)\n",
        "#         ax[0].imshow(transforms.ToPILImage()(data), cmap='Greys')\n",
        "#         ax[1].imshow(G(z).cpu().detach().numpy().reshape(28,28), cmap='Greys')\n",
        "#         ax[2].imshow(transforms.ToPILImage()(original), cmap='Greys')\n",
        "#         plt.show()\n",
        "\n",
        "#         break"
      ]
    },
    {
      "cell_type": "code",
      "execution_count": 18,
      "metadata": {
        "id": "4oJFWYtfx7Me"
      },
      "outputs": [],
      "source": [
        "# # Save the generator model\n",
        "# torch.save(G, 'trained_model/G_mnist_lenet.pth')\n",
        "# g_state_dict = G.state_dict()\n",
        "# torch.save(g_state_dict, 'trained_model/G_mnist_lenet_weights.pth')\n"
      ]
    },
    {
      "cell_type": "code",
      "execution_count": 19,
      "metadata": {},
      "outputs": [
        {
          "data": {
            "image/png": "[encoded data removed]",
            "text/plain": [
              "<Figure size 640x480 with 3 Axes>"
            ]
          },
          "metadata": {},
          "output_type": "display_data"
        }
      ],
      "source": [
        "#===================Test the model===================#\n",
        "data=torch.load('sample_pics/mask_six.pth')\n",
        "original=torch.load('sample_pics/og_six.pth')\n",
        "\n",
        "z = data.view(-1, mnist_dim).to(device)\n",
        "\n",
        "fig, ax = plt.subplots(1,3)\n",
        "ax[0].imshow(transforms.ToPILImage()(data), cmap='Greys')\n",
        "ax[0].set_title(f'Image with {int(masking_rate*100)}% missing traces',size=8)\n",
        "ax[1].imshow(G(z).cpu().detach().numpy().reshape(28,28), cmap='Greys')\n",
        "ax[1].set_title(f'Linear model result',size=8)\n",
        "ax[2].imshow(transforms.ToPILImage()(original), cmap='Greys')\n",
        "ax[2].set_title(f'Original image',size=8)\n",
        "# plt.axis('off')\n",
        "plt.show()"
      ]
    },
    {
      "cell_type": "code",
      "execution_count": null,
      "metadata": {},
      "outputs": [],
      "source": []
    },
    {
      "cell_type": "code",
      "execution_count": null,
      "metadata": {},
      "outputs": [],
      "source": []
    }
  ],
  "metadata": {
    "accelerator": "GPU",
    "colab": {
      "provenance": []
    },
    "kernelspec": {
      "display_name": "Python 3",
      "name": "python3"
    },
    "language_info": {
      "codemirror_mode": {
        "name": "ipython",
        "version": 3
      },
      "file_extension": ".py",
      "mimetype": "text/x-python",
      "name": "python",
      "nbconvert_exporter": "python",
      "pygments_lexer": "ipython3",
      "version": "3.9.2"
    }
  },
  "nbformat": 4,
  "nbformat_minor": 0
}
